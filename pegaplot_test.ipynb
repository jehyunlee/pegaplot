{
 "cells": [
  {
   "cell_type": "code",
   "execution_count": 1,
   "metadata": {},
   "outputs": [
    {
     "name": "stderr",
     "output_type": "stream",
     "text": [
      "/home/jehyun/anaconda3/lib/python3.7/site-packages/statsmodels/tools/_testing.py:19: FutureWarning: pandas.util.testing is deprecated. Use the functions in the public API at pandas.testing instead.\n",
      "  import pandas.util.testing as tm\n"
     ]
    },
    {
     "name": "stdout",
     "output_type": "stream",
     "text": [
      "# matplotlib 한글 사용 가능: NanumGothic\n",
      "# Setting Default Values:\n",
      "  color      = skyblue\n",
      "  cmap       = magma\n",
      "  alpha      = 0.5\n",
      "  style      = seaborn-whitegrid\n",
      "  palette    = bright\n",
      "  context    = talk\n",
      "  fontmath   = cm\n",
      "  fontkr     = NanumGothic\n",
      "  figsize    = [5, 5]\n",
      "  showdpi    = 72\n",
      "  filedpi    = 200\n"
     ]
    }
   ],
   "source": [
    "import pegaplot as pp"
   ]
  },
  {
   "cell_type": "code",
   "execution_count": 2,
   "metadata": {},
   "outputs": [],
   "source": [
    "import numpy as np\n",
    "\n",
    "# Create some normally distributed data (+kde)\n",
    "mean = [0, 0]\n",
    "cov = [[1, 1], [1, 2]]\n",
    "x, y = np.random.multivariate_normal(mean, cov, 3000).T"
   ]
  },
  {
   "cell_type": "code",
   "execution_count": null,
   "metadata": {
    "jupyter": {
     "source_hidden": true
    }
   },
   "outputs": [],
   "source": [
    "# check type of a variable\n",
    "def chk_type(var, typename):\n",
    "    \"\"\"\n",
    "    check type of variable\n",
    "    \n",
    "    Parameters\n",
    "    ------------------------\n",
    "    var : variable\n",
    "    typename : (str)type name \n",
    "               'array' is regarded as 'list' as well.    \n",
    "    \"\"\"\n",
    "    typename_tol = 'nullnullnull'\n",
    "    \n",
    "    if typename == 'list':\n",
    "        typename_tol = 'array'\n",
    "    \n",
    "    if typename in str(type(var)) or typename_tol in str(type(var)):\n",
    "        return True\n",
    "    else:\n",
    "        return False\n",
    "\n",
    "\n",
    "# check numbers of x and y.\n",
    "def chk_len(x, y):\n",
    "\n",
    "    assert chk_type(x, 'list')\n",
    "    assert chk_type(y, 'list')\n",
    "    \n",
    "    lenx, leny = len(x), len(y)\n",
    "    assert lenx == leny\n",
    "\n",
    "\n",
    "# check null values\n",
    "def chk_nan(x, y=None):\n",
    "    \n",
    "    x_name, y_name = 'x', 'y'\n",
    "    # get name if x is series\n",
    "    if chk_type(x, 'series'):\n",
    "        x_name = x.name\n",
    "        x = np.array(x)\n",
    "    else:\n",
    "        # check data type : should be array-like\n",
    "        assert chk_type(x, 'list')    \n",
    "    \n",
    "    chk_y = True\n",
    "    try:\n",
    "        y.all()\n",
    "    except AttributeError:\n",
    "        chk_y = False\n",
    "        pass\n",
    "    \n",
    "    # single variable \n",
    "    if chk_y == False:\n",
    "        numnan = len(x[np.isnan(x)])\n",
    "        if numnan > 0:\n",
    "            print(f'# WARNING {x_name}: Number of null values={numnan}. Reduced from {len(x)} to {len(x[~np.isnan(x)])}')\n",
    "\n",
    "        return x[~np.isnan(x)] \n",
    "    \n",
    "    # double variables : union of null values\n",
    "    elif chk_y == True:\n",
    "        # get names if y is a series\n",
    "        if chk_type(y, 'series'):\n",
    "            y_name = y.name\n",
    "            y = np.array(y)\n",
    "        else:\n",
    "            # check data type : should be array-like\n",
    "            assert chk_type(y, 'list')    \n",
    "        \n",
    "        chk_len(x, y)\n",
    "\n",
    "        x_nanidx = np.where(np.isnan(x))[0]\n",
    "        y_nanidx = np.where(np.isnan(y))[0]\n",
    "        x_numnan = len(x_nanidx)\n",
    "        y_numnan = len(y_nanidx)\n",
    "        xuy_nanidx = list(set(x_nanidx) | set(y_nanidx))\n",
    "        xuy_numnan = len(list(set(x_nanidx) | set(y_nanidx)))\n",
    "        \n",
    "        x_new = np.delete(x, xuy_nanidx)\n",
    "        y_new = np.delete(y, xuy_nanidx)\n",
    "        if x_numnan > 0 or y_numnan > 0:\n",
    "            print(f'# WARNING ({x_name}, {y_name}): Number of null values=({x_numnan}, {y_numnan}).')\n",
    "            print(f'          number of refined elements are ({len(x_new)}, {len(y_new)}).')\n",
    "        \n",
    "        return x_new, y_new"
   ]
  },
  {
   "cell_type": "code",
   "execution_count": null,
   "metadata": {},
   "outputs": [],
   "source": [
    "a = np.array([0, 1])\n",
    "b = np.array([3, 4])\n",
    "A = []\n",
    "A.append(a)\n",
    "A.append(b)\n",
    "print(A)"
   ]
  },
  {
   "cell_type": "code",
   "execution_count": null,
   "metadata": {},
   "outputs": [],
   "source": [
    "from functools import reduce\n",
    "\n",
    "def chk_nan(*args):\n",
    "    data_names = []\n",
    "    data = []\n",
    "    data_nanidx = []\n",
    "    data_new = []\n",
    "    \n",
    "    for i, arg in enumerate(args):\n",
    "        # data should be array-like\n",
    "        assert chk_type(arg, 'list') or chk_type(arg, 'series')\n",
    "        print(i, arg)\n",
    "        \n",
    "        # data names\n",
    "        if chk_type(arg, 'series'):\n",
    "            data_names.append(arg.name)\n",
    "        else: \n",
    "            data_names.append(f'data_{i}')\n",
    "        \n",
    "        # data\n",
    "        data.append(arg)\n",
    "            \n",
    "        # null values\n",
    "        data_nanidx.append(np.where(np.isnan(arg))[0])\n",
    "        if len(data_nanidx[i]) > 0:\n",
    "            print(f'# WARNING {data_names[i]}: Number of null values={len(data_nanidx[i])} of {len(data[i])}.')\n",
    "\n",
    "    data_nanidx_all = reduce(lambda a, b: list(set(a) | set(b)), data_nanidx)\n",
    "    \n",
    "    for i, datum in enumerate(data):\n",
    "        data_new.append(np.delete(data[i], data_nanidx_all))\n",
    "    \n",
    "    return data_new\n",
    "\n",
    "#     x_nanidx = np.where(np.isnan(x))[0]\n",
    "#         y_nanidx = np.where(np.isnan(y))[0]\n",
    "#         x_numnan = len(x_nanidx)\n",
    "#         y_numnan = len(y_nanidx)\n",
    "#         xuy_nanidx = list(set(x_nanidx) | set(y_nanidx))\n",
    "#         xuy_numnan = len(list(set(x_nanidx) | set(y_nanidx)))\n",
    "            \n",
    "\n",
    "chk_nan([1,2,3,np.nan,np.nan,4,5], [3, 4, np.nan, np.nan, 2, 1, 3], [np.nan, np.nan, 2, 1, 3, 3, 4])        "
   ]
  },
  {
   "cell_type": "code",
   "execution_count": 3,
   "metadata": {},
   "outputs": [],
   "source": [
    "# check null values\n",
    "def chk_nan(x, y=None):\n",
    "    \n",
    "    x_name, y_name = 'x', 'y'\n",
    "    # get name if x is series\n",
    "    if chk_type(x, 'series'):\n",
    "        x_name = x.name\n",
    "        x = np.array(x)\n",
    "    else:\n",
    "        # check data type : should be array-like\n",
    "        assert chk_type(x, 'list')    \n",
    "    \n",
    "    chk_y = True\n",
    "    try:\n",
    "        y.all()\n",
    "    except AttributeError:\n",
    "        chk_y = False\n",
    "        pass\n",
    "    \n",
    "    # single variable \n",
    "    if chk_y == False:\n",
    "        numnan = len(x[np.isnan(x)])\n",
    "        if numnan > 0:\n",
    "            print(f'# WARNING {x_name}: Number of null values={numnan}. Reduced from {len(x)} to {len(x[~np.isnan(x)])}')\n",
    "\n",
    "        return x[~np.isnan(x)] \n",
    "    \n",
    "    # double variables : union of null values\n",
    "    elif chk_y == True:\n",
    "        # get names if y is a series\n",
    "        if chk_type(y, 'series'):\n",
    "            y_name = y.name\n",
    "            y = np.array(y)\n",
    "        else:\n",
    "            # check data type : should be array-like\n",
    "            assert chk_type(y, 'list')    \n",
    "        \n",
    "        chk_len(x, y)\n",
    "\n",
    "        x_nanidx = np.where(np.isnan(x))[0]\n",
    "        y_nanidx = np.where(np.isnan(y))[0]\n",
    "        x_numnan = len(x_nanidx)\n",
    "        y_numnan = len(y_nanidx)\n",
    "        xuy_nanidx = list(set(x_nanidx) | set(y_nanidx))\n",
    "        xuy_numnan = len(list(set(x_nanidx) | set(y_nanidx)))\n",
    "        \n",
    "        x_new = np.delete(x, xuy_nanidx)\n",
    "        y_new = np.delete(y, xuy_nanidx)\n",
    "        if x_numnan > 0 or y_numnan > 0:\n",
    "            print(f'# WARNING ({x_name}, {y_name}): Number of null values=({x_numnan}, {y_numnan}).')\n",
    "            print(f'          number of refined elements are ({len(x_new)}, {len(y_new)}).')\n",
    "        \n",
    "        return x_new, y_new"
   ]
  },
  {
   "cell_type": "code",
   "execution_count": 5,
   "metadata": {},
   "outputs": [
    {
     "name": "stdout",
     "output_type": "stream",
     "text": [
      "0 [1, 2, 3, nan, nan, 4, 5]\n",
      "# WARNING data_0: Number of null values=2 of 7.\n",
      "1 [3, 4, nan, nan, 2, 1, 3]\n",
      "# WARNING data_1: Number of null values=2 of 7.\n",
      "2 [nan, nan, 2, 1, 3, 3, 4]\n",
      "# WARNING data_2: Number of null values=2 of 7.\n"
     ]
    }
   ],
   "source": [
    "a, b, c = pp.chk_nan([1,2,3,np.nan,np.nan,4,5], [3, 4, np.nan, np.nan, 2, 1, 3], [np.nan, np.nan, 2, 1, 3, 3, 4])        "
   ]
  },
  {
   "cell_type": "code",
   "execution_count": 9,
   "metadata": {},
   "outputs": [],
   "source": [
    "a = np.array([3, 4, np.nan, np.nan, 2, 1, 3])"
   ]
  },
  {
   "cell_type": "code",
   "execution_count": 11,
   "metadata": {},
   "outputs": [
    {
     "ename": "AttributeError",
     "evalue": "'numpy.ndarray' object has no attribute 'value'",
     "output_type": "error",
     "traceback": [
      "\u001b[0;31m---------------------------------------------------------------------------\u001b[0m",
      "\u001b[0;31mAttributeError\u001b[0m                            Traceback (most recent call last)",
      "\u001b[0;32m<ipython-input-11-00df56143c5a>\u001b[0m in \u001b[0;36m<module>\u001b[0;34m\u001b[0m\n\u001b[0;32m----> 1\u001b[0;31m \u001b[0ma\u001b[0m\u001b[0;34m.\u001b[0m\u001b[0mvalue\u001b[0m\u001b[0;34m(\u001b[0m\u001b[0;34m)\u001b[0m\u001b[0;34m\u001b[0m\u001b[0;34m\u001b[0m\u001b[0m\n\u001b[0m",
      "\u001b[0;31mAttributeError\u001b[0m: 'numpy.ndarray' object has no attribute 'value'"
     ]
    }
   ],
   "source": [
    "a.value()"
   ]
  }
 ],
 "metadata": {
  "kernelspec": {
   "display_name": "Python 3",
   "language": "python",
   "name": "python3"
  },
  "language_info": {
   "codemirror_mode": {
    "name": "ipython",
    "version": 3
   },
   "file_extension": ".py",
   "mimetype": "text/x-python",
   "name": "python",
   "nbconvert_exporter": "python",
   "pygments_lexer": "ipython3",
   "version": "3.7.3"
  }
 },
 "nbformat": 4,
 "nbformat_minor": 4
}
