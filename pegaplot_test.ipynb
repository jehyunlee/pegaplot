{
 "cells": [
  {
   "cell_type": "code",
   "execution_count": 2,
   "metadata": {},
   "outputs": [
    {
     "name": "stdout",
     "output_type": "stream",
     "text": [
      "# matplotlib 한글 사용 가능: NanumGothic\n",
      "# Setting Default Values:\n",
      "  color      = green\n",
      "  style      = seaborn-whitegrid\n",
      "  palette    = bright\n",
      "  context    = talk\n",
      "  mathfont   = cm\n",
      "  krfont     = NanumGothic\n",
      "  figsize    = [4, 4]\n",
      "  showdpi    = 72\n",
      "  filedpi    = 200\n"
     ]
    }
   ],
   "source": [
    "import pegaplot as pp"
   ]
  }
 ],
 "metadata": {
  "kernelspec": {
   "display_name": "Python 3",
   "language": "python",
   "name": "python3"
  },
  "language_info": {
   "codemirror_mode": {
    "name": "ipython",
    "version": 3
   },
   "file_extension": ".py",
   "mimetype": "text/x-python",
   "name": "python",
   "nbconvert_exporter": "python",
   "pygments_lexer": "ipython3",
   "version": "3.7.3"
  }
 },
 "nbformat": 4,
 "nbformat_minor": 4
}
